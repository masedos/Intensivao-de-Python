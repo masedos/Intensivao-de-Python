{
  "nbformat": 4,
  "nbformat_minor": 0,
  "metadata": {
    "colab": {
      "name": "Projeto_1 - Intensivao de Python.ipynb",
      "provenance": [],
      "collapsed_sections": []
    },
    "kernelspec": {
      "name": "python3",
      "display_name": "Python 3"
    }
  },
  "cells": [
    {
      "cell_type": "markdown",
      "metadata": {
        "id": "x9denfFd91wH"
      },
      "source": [
        "## Projeto 1 - Intensivão de Python"
      ]
    },
    {
      "cell_type": "markdown",
      "metadata": {
        "id": "LlkGjhyZgXqB"
      },
      "source": [
        "### Desafio:\r\n",
        "\r\n",
        "Você faz parte da equipe de Analytics de uma grande marca de vestuário com mais de 25 lojas espalhadas em Shoppings de todo o Brasil.\r\n",
        "\r\n",
        "Toda semana você precisa enviar para a diretoria um ranking atualizado com as 25 lojas contendo 3 informações:\r\n",
        "- Faturamento de cada Loja\r\n",
        "- Quantidade de Produtos Vendidos de cada Loja\r\n",
        "- Ticket Médio dos Produto de cada Loja\r\n",
        "\r\n",
        "Além disso, cada loja tem 1 gerente que precisa receber o resumo das informações da loja dele. Por isso, cada gerente deve receber no e-mail:\r\n",
        "- Faturamento da sua loja\r\n",
        "- Quantidade de Produtos Vendidos da sua loja\r\n",
        "- Ticket Médio dos Produto da sua Loja\r\n",
        "\r\n",
        "Esse relatório é sempre enviado como um resumo de todos os dados disponíveis no ano."
      ]
    },
    {
      "cell_type": "markdown",
      "metadata": {
        "id": "DrMBBB_XpNzA"
      },
      "source": [
        "## Desafio:\r\n",
        "\r\n",
        "Para resolver o desafio vamos seguir a seguinte lógica:\r\n",
        "\r\n",
        "- Passo 1 - Importar a base de Dados\r\n",
        "- Passo 2 - Visualizar a Base de Dados para ver se precisamos fazer algum tratamento\r\n",
        "- Passo 3 - Calcular os indicadores de todas as lojas:\r\n",
        "  - Faturamento por Loja\r\n",
        "  - Quantidade de Produtos Vendidos por Loja\r\n",
        "  - Ticket Médio dos Produto por Loja\r\n",
        "- Passo 4 - Calcular os indicadores de cada loja\r\n",
        "- Passo 5 - Enviar e-mail para cada loja\r\n",
        "- Passo 6 - Enviar e-mail para a diretoria"
      ]
    },
    {
      "cell_type": "markdown",
      "metadata": {
        "id": "LfrZ3LGvp9S7"
      },
      "source": [
        "### Passo 1 - Importando a Base de Dados + Passo 2 - Visualizando os Dados"
      ]
    },
    {
      "cell_type": "code",
      "metadata": {
        "colab": {
          "base_uri": "https://localhost:8080/",
          "height": 204
        },
        "id": "xMpovGrClBSh",
        "outputId": "ce4a861d-7b53-4929-e4c2-965bf458a2f4"
      },
      "source": [
        "import pandas as pd\r\n",
        "\r\n",
        "df = pd.read_excel(r'https://github.com/masedos/Intensivao-de-Python/blob/main/Aula%201/Vendas.xlsx?raw=true')\r\n",
        "\r\n",
        "df.head()"
      ],
      "execution_count": 1,
      "outputs": [
        {
          "output_type": "execute_result",
          "data": {
            "text/html": [
              "<div>\n",
              "<style scoped>\n",
              "    .dataframe tbody tr th:only-of-type {\n",
              "        vertical-align: middle;\n",
              "    }\n",
              "\n",
              "    .dataframe tbody tr th {\n",
              "        vertical-align: top;\n",
              "    }\n",
              "\n",
              "    .dataframe thead th {\n",
              "        text-align: right;\n",
              "    }\n",
              "</style>\n",
              "<table border=\"1\" class=\"dataframe\">\n",
              "  <thead>\n",
              "    <tr style=\"text-align: right;\">\n",
              "      <th></th>\n",
              "      <th>Código Venda</th>\n",
              "      <th>Data</th>\n",
              "      <th>ID Loja</th>\n",
              "      <th>Produto</th>\n",
              "      <th>Quantidade</th>\n",
              "      <th>Valor Unitário</th>\n",
              "      <th>Valor Final</th>\n",
              "    </tr>\n",
              "  </thead>\n",
              "  <tbody>\n",
              "    <tr>\n",
              "      <th>0</th>\n",
              "      <td>1</td>\n",
              "      <td>2019-01-01</td>\n",
              "      <td>Iguatemi Esplanada</td>\n",
              "      <td>Sapato Estampa</td>\n",
              "      <td>1</td>\n",
              "      <td>358</td>\n",
              "      <td>358</td>\n",
              "    </tr>\n",
              "    <tr>\n",
              "      <th>1</th>\n",
              "      <td>1</td>\n",
              "      <td>2019-01-01</td>\n",
              "      <td>Iguatemi Esplanada</td>\n",
              "      <td>Camiseta</td>\n",
              "      <td>2</td>\n",
              "      <td>180</td>\n",
              "      <td>360</td>\n",
              "    </tr>\n",
              "    <tr>\n",
              "      <th>2</th>\n",
              "      <td>1</td>\n",
              "      <td>2019-01-01</td>\n",
              "      <td>Iguatemi Esplanada</td>\n",
              "      <td>Sapato Xadrez</td>\n",
              "      <td>1</td>\n",
              "      <td>368</td>\n",
              "      <td>368</td>\n",
              "    </tr>\n",
              "    <tr>\n",
              "      <th>3</th>\n",
              "      <td>2</td>\n",
              "      <td>2019-01-02</td>\n",
              "      <td>Norte Shopping</td>\n",
              "      <td>Relógio</td>\n",
              "      <td>3</td>\n",
              "      <td>200</td>\n",
              "      <td>600</td>\n",
              "    </tr>\n",
              "    <tr>\n",
              "      <th>4</th>\n",
              "      <td>2</td>\n",
              "      <td>2019-01-02</td>\n",
              "      <td>Norte Shopping</td>\n",
              "      <td>Chinelo Liso</td>\n",
              "      <td>1</td>\n",
              "      <td>71</td>\n",
              "      <td>71</td>\n",
              "    </tr>\n",
              "  </tbody>\n",
              "</table>\n",
              "</div>"
            ],
            "text/plain": [
              "   Código Venda       Data  ... Valor Unitário Valor Final\n",
              "0             1 2019-01-01  ...            358         358\n",
              "1             1 2019-01-01  ...            180         360\n",
              "2             1 2019-01-01  ...            368         368\n",
              "3             2 2019-01-02  ...            200         600\n",
              "4             2 2019-01-02  ...             71          71\n",
              "\n",
              "[5 rows x 7 columns]"
            ]
          },
          "metadata": {
            "tags": []
          },
          "execution_count": 1
        }
      ]
    },
    {
      "cell_type": "markdown",
      "metadata": {
        "id": "VajUvKlIqGfy"
      },
      "source": [
        "### Passo 3.1 - Calculando o Faturamento por Loja"
      ]
    },
    {
      "cell_type": "code",
      "metadata": {
        "colab": {
          "base_uri": "https://localhost:8080/"
        },
        "id": "yvCRCMfV-88_",
        "outputId": "3150e7bf-7b74-49f9-d2bc-2f7c82500f83"
      },
      "source": [
        "faturamento = df[['ID Loja', 'Valor Final']].groupby('ID Loja').sum()\r\n",
        "faturamento = faturamento.sort_values(by='Valor Final', ascending=False)\r\n",
        "print(faturamento)"
      ],
      "execution_count": 2,
      "outputs": [
        {
          "output_type": "stream",
          "text": [
            "                                  Valor Final\n",
            "ID Loja                                      \n",
            "Iguatemi Campinas                     1762419\n",
            "Shopping Vila Velha                   1731167\n",
            "Bourbon Shopping SP                   1726110\n",
            "Rio Mar Recife                        1722766\n",
            "Shopping SP Market                    1721763\n",
            "Palladium Shopping Curitiba           1721120\n",
            "Norte Shopping                        1711968\n",
            "Ribeirão Shopping                     1707122\n",
            "Iguatemi Esplanada                    1699681\n",
            "Rio Mar Shopping Fortaleza            1698430\n",
            "Shopping Center Leste Aricanduva      1682870\n",
            "Novo Shopping Ribeirão Preto          1678225\n",
            "Shopping Iguatemi Fortaleza           1674824\n",
            "Center Shopping Uberlândia            1668921\n",
            "Shopping União de Osasco              1663770\n",
            "Shopping Barra                        1653103\n",
            "Passei das Águas Shopping             1649014\n",
            "Shopping Eldorado                     1648111\n",
            "Salvador Shopping                     1646739\n",
            "Shopping Center Interlagos            1640486\n",
            "Shopping Ibirapuera                   1635060\n",
            "Parque Dom Pedro Shopping             1631630\n",
            "Shopping Recife                       1624879\n",
            "Shopping Midway Mall                  1590441\n",
            "Shopping Morumbi                      1586444\n"
          ],
          "name": "stdout"
        }
      ]
    },
    {
      "cell_type": "markdown",
      "metadata": {
        "id": "pUf-OWDiqSNg"
      },
      "source": [
        "### Passo 3.2 - Calculando a Quantidade Vendida por Loja"
      ]
    },
    {
      "cell_type": "code",
      "metadata": {
        "colab": {
          "base_uri": "https://localhost:8080/"
        },
        "id": "a_MAXNz8_Wkf",
        "outputId": "81d7f868-b978-43cb-a29e-69ac934e1ef4"
      },
      "source": [
        "quantidade = df[['ID Loja', 'Quantidade']].groupby('ID Loja').sum()\r\n",
        "quantidade = quantidade.sort_values(by='ID Loja', ascending=False)\r\n",
        "print(quantidade)"
      ],
      "execution_count": 3,
      "outputs": [
        {
          "output_type": "stream",
          "text": [
            "                                  Quantidade\n",
            "ID Loja                                     \n",
            "Shopping Vila Velha                     9224\n",
            "Shopping União de Osasco                8730\n",
            "Shopping SP Market                      8927\n",
            "Shopping Recife                         8581\n",
            "Shopping Morumbi                        8508\n",
            "Shopping Midway Mall                    8206\n",
            "Shopping Iguatemi Fortaleza             8629\n",
            "Shopping Ibirapuera                     8723\n",
            "Shopping Eldorado                       8719\n",
            "Shopping Center Leste Aricanduva        8938\n",
            "Shopping Center Interlagos              8675\n",
            "Shopping Barra                          8638\n",
            "Salvador Shopping                       8698\n",
            "Rio Mar Shopping Fortaleza              8937\n",
            "Rio Mar Recife                          8863\n",
            "Ribeirão Shopping                       8825\n",
            "Passei das Águas Shopping               8618\n",
            "Parque Dom Pedro Shopping               8388\n",
            "Palladium Shopping Curitiba             9091\n",
            "Novo Shopping Ribeirão Preto            8751\n",
            "Norte Shopping                          9014\n",
            "Iguatemi Esplanada                      8580\n",
            "Iguatemi Campinas                       8935\n",
            "Center Shopping Uberlândia              8627\n",
            "Bourbon Shopping SP                     8863\n"
          ],
          "name": "stdout"
        }
      ]
    },
    {
      "cell_type": "markdown",
      "metadata": {
        "id": "55E2osWYqWr0"
      },
      "source": [
        "### Passo 3.3 - Calculando o Ticket Médio dos Produtos por Loja"
      ]
    },
    {
      "cell_type": "code",
      "metadata": {
        "colab": {
          "base_uri": "https://localhost:8080/"
        },
        "id": "QDdIQVg4APsM",
        "outputId": "117f0ebd-5859-4b45-e476-bff52180102b"
      },
      "source": [
        "ticket_medio = (faturamento['Valor Final'] / quantidade['Quantidade']).to_frame()\r\n",
        "ticket_medio = ticket_medio.rename(columns={0: 'Ticket Medio'})\r\n",
        "ticket_medio = ticket_medio.sort_values(by='Ticket Medio', ascending=False)\r\n",
        "print(ticket_medio)"
      ],
      "execution_count": 4,
      "outputs": [
        {
          "output_type": "stream",
          "text": [
            "                                  Ticket Medio\n",
            "ID Loja                                       \n",
            "Iguatemi Esplanada                  198.098019\n",
            "Iguatemi Campinas                   197.248909\n",
            "Bourbon Shopping SP                 194.754598\n",
            "Parque Dom Pedro Shopping           194.519552\n",
            "Rio Mar Recife                      194.377299\n",
            "Shopping Iguatemi Fortaleza         194.092479\n",
            "Shopping Midway Mall                193.814404\n",
            "Center Shopping Uberlândia          193.453228\n",
            "Ribeirão Shopping                   193.441586\n",
            "Shopping SP Market                  192.871401\n",
            "Novo Shopping Ribeirão Preto        191.775226\n",
            "Shopping Barra                      191.375666\n",
            "Passei das Águas Shopping           191.345324\n",
            "Shopping União de Osasco            190.580756\n",
            "Rio Mar Shopping Fortaleza          190.044758\n",
            "Norte Shopping                      189.923231\n",
            "Shopping Recife                     189.357767\n",
            "Salvador Shopping                   189.323868\n",
            "Palladium Shopping Curitiba         189.321307\n",
            "Shopping Center Interlagos          189.105014\n",
            "Shopping Eldorado                   189.025232\n",
            "Shopping Center Leste Aricanduva    188.282614\n",
            "Shopping Vila Velha                 187.680724\n",
            "Shopping Ibirapuera                 187.442394\n",
            "Shopping Morumbi                    186.464974\n"
          ],
          "name": "stdout"
        }
      ]
    },
    {
      "cell_type": "markdown",
      "metadata": {
        "id": "OIyFO49Aqiv5"
      },
      "source": [
        "### Criando a função de enviar e-mail"
      ]
    },
    {
      "cell_type": "code",
      "metadata": {
        "id": "6w561mVoCcMQ"
      },
      "source": [
        "# função enviar_email\r\n",
        "import smtplib\r\n",
        "import email.message\r\n",
        "\r\n",
        "def enviar_email(resumo_loja, loja):\r\n",
        "\r\n",
        "  server = smtplib.SMTP('smtp.gmail.com:587')  \r\n",
        "  email_content = f'''\r\n",
        "  <p>Prezados,</p>\r\n",
        "  <p>Segue o relatório das vendas</p>\r\n",
        "  {loja}\r\n",
        "  {resumo_loja.to_html()}\r\n",
        " \r\n",
        "  <p>Qualquer dúvida estou a disposição</p>\r\n",
        "  <p>Fernandes Macedo</p>'''\r\n",
        "  \r\n",
        "  msg = email.message.Message()\r\n",
        "  msg['Subject'] = f'Relatório de Vendas - Loja: {loja}'\r\n",
        "  \r\n",
        "  # Fazer antes (apenas na 1ª vez): Ativar Aplicativos não Seguros.\r\n",
        "  # Gerenciar Conta Google -> Segurança -> Aplicativos não Seguros -> Habilitar\r\n",
        "  # Caso mesmo assim dê o erro: smtplib.SMTPAuthenticationError: (534,\r\n",
        "  # Você faz o login no seu e-mail e depois entra em: https://accounts.google.com/DisplayUnlockCaptcha\r\n",
        "\r\n",
        "  msg['From'] = 'masedos@gmail.com'\r\n",
        "  msg['To'] = 'masedos@hotmail.com'\r\n",
        "  password = 'senha'\r\n",
        "  msg.add_header('Content-Type', 'text/html')\r\n",
        "  msg.set_payload(email_content)\r\n",
        "  \r\n",
        "  s = smtplib.SMTP('smtp.gmail.com: 587')\r\n",
        "  s.starttls()\r\n",
        "  # Login Credentials for sending the mail\r\n",
        "  s.login(msg['From'], password)\r\n",
        "  s.sendmail(msg['From'], [msg['To']], msg.as_string().encode('utf-8'))\r\n",
        "  print('E-mail enviado com sucesso!')"
      ],
      "execution_count": 5,
      "outputs": []
    },
    {
      "cell_type": "markdown",
      "metadata": {
        "id": "Xby-JPcdqmdK"
      },
      "source": [
        "### Calculando Indicadores por Loja + Enviar E-mail para todas as lojas"
      ]
    },
    {
      "cell_type": "code",
      "metadata": {
        "id": "6NLWIl6dRVIl",
        "colab": {
          "base_uri": "https://localhost:8080/"
        },
        "outputId": "7434c690-53fb-4fcb-a6ab-3215c36f8488"
      },
      "source": [
        "# email para diretoria\r\n",
        "\r\n",
        "tabela_diretoria = faturamento.join(quantidade).join(ticket_medio)\r\n",
        "enviar_email(tabela_diretoria, 'Todas as Lojas')"
      ],
      "execution_count": 6,
      "outputs": [
        {
          "output_type": "stream",
          "text": [
            "E-mail enviado com sucesso!\n"
          ],
          "name": "stdout"
        }
      ]
    },
    {
      "cell_type": "code",
      "metadata": {
        "id": "JHdM0HSHBAEP",
        "colab": {
          "base_uri": "https://localhost:8080/"
        },
        "outputId": "ce6bab64-5688-48ad-ce64-365211c710c1"
      },
      "source": [
        "lojas = df['ID Loja'].unique()\r\n",
        "\r\n",
        "for loja in lojas:\r\n",
        "  tabela_loja = df.loc[df['ID Loja'] == loja, ['ID Loja', 'Quantidade', 'Valor Final']]\r\n",
        "  resumo_loja = tabela_loja.groupby('ID Loja').sum()\r\n",
        "  resumo_loja['Ticket Médio'] = resumo_loja['Valor Final'] / resumo_loja['Quantidade']\r\n",
        "  enviar_email(resumo_loja, loja)"
      ],
      "execution_count": 7,
      "outputs": [
        {
          "output_type": "stream",
          "text": [
            "E-mail enviado com sucesso!\n",
            "E-mail enviado com sucesso!\n",
            "E-mail enviado com sucesso!\n",
            "E-mail enviado com sucesso!\n",
            "E-mail enviado com sucesso!\n",
            "E-mail enviado com sucesso!\n",
            "E-mail enviado com sucesso!\n",
            "E-mail enviado com sucesso!\n",
            "E-mail enviado com sucesso!\n",
            "E-mail enviado com sucesso!\n",
            "E-mail enviado com sucesso!\n",
            "E-mail enviado com sucesso!\n",
            "E-mail enviado com sucesso!\n",
            "E-mail enviado com sucesso!\n",
            "E-mail enviado com sucesso!\n",
            "E-mail enviado com sucesso!\n",
            "E-mail enviado com sucesso!\n",
            "E-mail enviado com sucesso!\n",
            "E-mail enviado com sucesso!\n",
            "E-mail enviado com sucesso!\n",
            "E-mail enviado com sucesso!\n",
            "E-mail enviado com sucesso!\n",
            "E-mail enviado com sucesso!\n",
            "E-mail enviado com sucesso!\n",
            "E-mail enviado com sucesso!\n"
          ],
          "name": "stdout"
        }
      ]
    }
  ]
}